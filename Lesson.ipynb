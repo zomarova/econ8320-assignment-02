{
 "cells": [
  {
   "cell_type": "markdown",
   "id": "639c45a6-5e0a-4bc7-b921-a1409b194432",
   "metadata": {},
   "source": [
    "## Why do I need to know this?\n",
    "\n",
    "Programming, at it's heart, is about being able to reduce the amount of work it takes to accomplish a task. In manufacturing, this would look like building a machine that can accomplish portions of a task with less human effort. By reducing the amount of work that we have to put into a process, we free ourselves up to focus on the tasks that are not so easily accomplished by anyone besides a competent human being (us). \n",
    "\n",
    "Think of a program as really tiny machinery. Your goal is to make a machine (in code) that can accomplish routine tasks for you. When you're done, you get to focus on other important tasks that demand your attention. For example, you might want to spend your time working on a forecast model, but first you need to check to make sure that all values in your time series are valid. You COULD just open up your data, and look at every record to make sure that each fits the rules that valid data should follow. Or you could write a program that can check every line for you, and either alert you to problems, or possibly fix them without you even having to be involved. Then, all of your time is freed for the forecasting model.\n",
    "\n",
    "Last week we talked about some of the types of information that we can store in Python. This week, we will start to learn about the tools baked into Python that allow us to begin the process of automation.\n",
    "\n",
    "## Conditions\n",
    "\n",
    "We have used conditions a few times already, but it is time to talk seriously about conditions and logical statements in Python. If you haven't noticed this yet, you will soon note that Python (and all other programming languages) are VERY literal. Things that we don't intend will occur whenever we assume that a computer will interpret an ambiguous statement in a single anticipated (by humans) way. Eventually, you will get used to being very careful when describing conditions in your code, and these problems will become less of an issue.\n",
    "\n",
    "In Python, we have keywords that we can use to express different kinds of logic. Let's get started by talking about `if` statements. `if` statements function in Python pretty much the same way that they do in English: you state a condition, and then explain what should happen if that condition is met. You can then list alternative outcomes with the conditions that should be met prior to implementing those contingency plans. Finally, you can list what to do in any other outcomes that were not explicity described. Let's try this out:"
   ]
  },
  {
   "cell_type": "code",
   "execution_count": null,
   "id": "b283e30d-d9f6-40a4-b174-8a88d655ae86",
   "metadata": {},
   "outputs": [],
   "source": [
    "x = 150\n",
    "\n",
    "if x > 100:\n",
    "    print(\"Whoa, that's a big one!\")"
   ]
  },
  {
   "cell_type": "markdown",
   "id": "bec26e52-0681-4426-a111-cd9e58522782",
   "metadata": {},
   "source": [
    "When we utilize conditions like the example above, every statement depends on the result of the evaluation of a **logical statement**. In this case, the **logical statement** is `x > 100`. This statement has a result that is a boolean value, as we can see if we ask Python to evaluate it as a standalone statement:"
   ]
  },
  {
   "cell_type": "code",
   "execution_count": null,
   "id": "eb5227e6-dfca-4010-8d82-1eb382f70a1c",
   "metadata": {},
   "outputs": [],
   "source": [
    "x > 100"
   ]
  },
  {
   "cell_type": "markdown",
   "id": "c3aa1a1c-2eed-4dfe-aaaa-22f40684f71f",
   "metadata": {},
   "source": [
    "When we use `if` statements, they are *always* paired with logical statements. We can write the logical statement inline, like we just did, or we can evaluate the truth of any prior statement. Let's look at another helpful example of an `if` statement using existing values:"
   ]
  },
  {
   "cell_type": "code",
   "execution_count": null,
   "id": "8bfc08a7-fe57-481b-99eb-49b3fbc7cd47",
   "metadata": {},
   "outputs": [],
   "source": [
    "x = 150\n",
    "y = 200\n",
    "\n",
    "xBigger = x > y\n",
    "xBig = x > 100\n",
    "\n",
    "if xBig & xBigger:\n",
    "    print(\"That is a REALLY big number\")\n",
    "elif xBig:\n",
    "    print(\"x is big, but not THAT big\")\n",
    "else:\n",
    "    print(\"x isn't really that big\")"
   ]
  },
  {
   "cell_type": "markdown",
   "id": "442595d3-11fb-43e7-b9fc-deb6a210b130",
   "metadata": {},
   "source": [
    "Here we take two numbers (`x` and `y`), and use two logical statements (`x > y` and `x > 100`) to evaluate several possible outcomes. First, we check if both conditions are true using the statement `xBig & xBigger`. If both are `True`, then we print the statement assigned to the `if` block.\n",
    "\n",
    "Next, we incorporate the keyword `elif`. `elif` is a keyword that *continues* an `if` statement. It tells Python to evaluate it's truthiness if the condition above it fails. In other words, the `elif` statement is only evaluated in this case when the joint statement `xBig & xBigger` is `False`. If the `elif` statement is evaluated as `True`, then its assigned print statement is executed and we skip the `else` block that follows.\n",
    "\n",
    "If the `elif` statement(s) (there can be as many as needed for our problem) is/are *also* `False`, then we reach the `else` statement. This is automatically executed when all other conditions fail and in this case prints the final print statement. `else` indicates that the code should associated with it should be run when all previous logical statements in the block are evaluated as `False`. It will not run if *any* of the previous statements evaluate as `True`.\n",
    "\n",
    "When writing logical blocks, we always write our code in the following order: \n",
    "\n",
    "1) Write an `if` statement, and its corresponding code block \n",
    "\n",
    "2) If needed, write as many `elif` statements as needed, along with their corresponding code blocks. **NOTE**: `elif` statements will be evaluated from top to bottom in the code, and once a single `elif` statement is evaluated as `True`, none of the subsequent `elif` statements will be evaluated. Put your `elif` statements in the order that you want them to be prioritized! \n",
    "\n",
    "3) If needed, write an `else` statement that will apply to all events not covered by `if` or `elif` statements\n",
    "\n",
    "**Solve it**: (from *The Python Workbook*)\n",
    "\n",
    "The following table lists the sound level in decibels for several common noises.\n",
    "\n",
    "| Noise | Decibel Level (dB) |\n",
    "|---|---|\n",
    "| Jackhammer | 130 |\n",
    "| Gas Lawnmower | 106 |\n",
    "| Alarm Clock | 70 |\n",
    "| Quiet Room | 40 |\n",
    "\n",
    "In a cell with the comment `#si-decibel`, write code that reads a sound level **input** in decibels from the user. \n",
    "\n",
    "If the user enters a decibel level (stored in variable `x`) that matches one of the noises in the table then your program should print a message indicating that the sound matches the volume of that noise. If the user enters a number of decibels between the noises listed then your program should print a message indicating which noises the sound level is between. Ensure that your program also generates reasonable output for a value smaller than the quietest noise in the table, and for a value larger than the loudest noise in the table."
   ]
  },
  {
   "cell_type": "code",
   "execution_count": null,
   "id": "5cfe9b80-f2ec-481f-9db5-bb6247b1b472",
   "metadata": {},
   "outputs": [],
   "source": [
    "#si-decibel\n",
    "x = int(input())\n",
    "if x == 130:\n",
    "    print(\"The sound level matches the volume of a Jackhammer.\")\n",
    "elif x == 106:\n",
    "    print(\"The sound level matches the volume of a Gas Lawnmower.\")\n",
    "elif x == 70:\n",
    "    print(\"The sound level matches the volume of an Alarm Clock.\")\n",
    "elif x == 40:\n",
    "    print(\"The sound level matches the volume of a Quiet Room.\")\n",
    "elif x > 130:\n",
    "    print(\"The sound level is louder than a Jackhammer.\")\n",
    "elif x < 40:\n",
    "    print(\"The sound level is quieter than a Quiet Room.\")\n",
    "elif 106 < x < 130:\n",
    "    print(\"The sound level is between a Jackhammer and a Gas Lawnmower.\")\n",
    "elif 70 < x < 106:\n",
    "    print(\"The sound level is between a Gas Lawnmower and an Alarm Clock.\")\n",
    "elif 40 < x < 70:\n",
    "    print(\"The sound level is between an Alarm Clock and a Quiet Room.\")\n"
   ]
  },
  {
   "cell_type": "markdown",
   "id": "5958feb4-be13-4987-8a0f-efb5c6d16079",
   "metadata": {},
   "source": [
    "## Loops\n",
    "\n",
    "Just a minute ago, we thought about a problem where we might need to check each record in a data set for valid entries. If we want to accomplish this kind of task, we need to write code that will check the first line, then the second line, then the third line, etc. We can do this by hand, of course. Imagine a list of entries stored in the variable `forecastData`, where we need to make sure that each record is above 40 but below 50. Checking each value manually for validity might look something like the code below:"
   ]
  },
  {
   "cell_type": "code",
   "execution_count": null,
   "id": "041bc267-2e90-4960-8306-ce45fa4b6dc1",
   "metadata": {},
   "outputs": [],
   "source": [
    "forecastData = [49.5, 40.2, 53.7, 48.9, 51.0]\n",
    "\n",
    "if (forecastData[0] > 40) & (forecastData[0] < 50):\n",
    "    print(True)\n",
    "else:\n",
    "    print(False)\n",
    "    \n",
    "if (forecastData[1] > 40) & (forecastData[1] < 50):\n",
    "    print(True)\n",
    "else:\n",
    "    print(False)\n",
    "    \n",
    "if (forecastData[2] > 40) & (forecastData[2] < 50):\n",
    "    print(True)\n",
    "else:\n",
    "    print(False)\n",
    "    \n",
    "if (forecastData[3] > 40) & (forecastData[3] < 50):\n",
    "    print(True)\n",
    "else:\n",
    "    print(False)\n",
    "    \n",
    "if (forecastData[4] > 40) & (forecastData[4] < 50):\n",
    "    print(True)\n",
    "else:\n",
    "    print(False)"
   ]
  },
  {
   "cell_type": "markdown",
   "id": "83f58d66-e081-45f6-b655-ed2d55689f88",
   "metadata": {},
   "source": [
    "That is a LOT of redundant code. Does it work? Sure. But what happens when I need to fix it? As I typed those lines, I did some copying and pasting, and then noticed that I made a few typos. At that point, I had to fix the typos and then copy and paste the corrected code again. Not ideal, but functional. Then I did it again! And again! It got pretty frustrating to fix each of the iterations of the code... \n",
    "\n",
    "While convenience is important, it is very likely when I am copying and pasting code over and over that I will make mistakes. If I just have to write one version of the code that would work for each of the lines of my list, I could avoid many of these errors.\n",
    "\n",
    "What we are doing when we write logic like the code above is called **looping**. We are writing code that will iteratively work its way through each specified record, and will **loop** through the same logic for each of those records. Wouldn't it be easier if we could just specify the pattern of behavior we expect, and not have to walk our program through each specific iteration?\n",
    "\n",
    "Yes. Yes it would.\n",
    "\n",
    "### For Loops\n",
    "\n",
    "The most common type of loop used in Python is a `for` loop. They are convenient and safe. Let's rewrite the code above using a loop rather than repeated (copy and pasted) code."
   ]
  },
  {
   "cell_type": "code",
   "execution_count": null,
   "id": "7ff966c4-a46f-498e-9671-f347d97e877c",
   "metadata": {},
   "outputs": [],
   "source": [
    "forecastData = [49.5, 40.2, 53.7, 48.9, 51.0]\n",
    "\n",
    "for i in forecastData:\n",
    "    if (i > 40) & (i < 50):\n",
    "        print(True)\n",
    "    else:\n",
    "        print(False)"
   ]
  },
  {
   "cell_type": "markdown",
   "id": "4228530e-24c5-481c-acec-94fb16bac098",
   "metadata": {},
   "source": [
    "That was way easier! But really, what did we just do?\n",
    "\n",
    "The structure of our `for` loop above is the standard format for Python. It translates to English in the following way: \"For every element (call it `i`) in the object `forecastData`, do the following:\". We even end the statement with a colon like we would in English!\n",
    "\n",
    "`i` becomes a **placeholder**, or a variable that will be temporarily assigned each time our loop goes to work. It will use each entry in `forecastData` one time, and while a given entry is being used, it will have the nickname `i`. That way, we can write all the code in our loop to describe what should happen to `i`. Then, in each pass of the loop, `i` takes the next value, and we follow the same set of instructions. In this case, we are just checking that our variables meet the established criteria, and then printing `True` if they do, or `False` if they don't.\n",
    "\n",
    "One awesome side effect of this version of loops is that we can easily update our loop if there is a mistake or change to the pattern, and we only have to do so ONE time! No copying and pasting, and less risk of accidental errors popping up in our code.\n",
    "\n",
    "**Solve it**:\n",
    "\n",
    "In a cell with the comment `#si-print-loop`, write a for loop that will print out each word in the following list one by one:\n",
    "`[\"A\",\"Long\",\"Time\",\"Ago\",\"In\",\"A\",\"Galaxy\",\"Far\",\"Far\",\"Away\"]`"
   ]
  },
  {
   "cell_type": "code",
   "execution_count": null,
   "id": "679c4ad5-81eb-428d-9665-309ed2c4f870",
   "metadata": {},
   "outputs": [],
   "source": [
    "#si-print-loop\n",
    "myList=[\"A\",\"Long\",\"Time\",\"Ago\",\"In\",\"A\",\"Galaxy\",\"Far\",\"Far\",\"Away\"]\n",
    "for i in myList:\n",
    "    print(i)"
   ]
  },
  {
   "cell_type": "markdown",
   "id": "08017665-cb98-4d7f-af5f-7d3eac361d95",
   "metadata": {},
   "source": [
    "### List Comprehensions\n",
    "\n",
    "Another great way to write a for loop is to use **list comprehensions**, or lists containing loop syntax that can generate a list as a result of the loop! It is a compact and effective way to get your concept into list form:"
   ]
  },
  {
   "cell_type": "code",
   "execution_count": null,
   "id": "62d13841-8e8b-417b-a70b-d57f4f39af7b",
   "metadata": {},
   "outputs": [],
   "source": [
    "forecastData = [49.5, 40.2, 53.7, 48.9, 51.0]\n",
    "\n",
    "# Use a list comprehension to evaluate the conditions from our old for loop\n",
    "meetsCondition = [(i > 40) & (i < 50) for i in forecastData]\n",
    "\n",
    "print(meetsCondition)"
   ]
  },
  {
   "cell_type": "markdown",
   "id": "a992091f-652a-4eba-9dd6-57b874ae6568",
   "metadata": {},
   "source": [
    "In this list comprehension, we are able to use a *single line* to write out our previous `for` loop, and then we can simply print our results by printing out the list itself. List comprehensions can provide us a quick way to make all sorts of lists:"
   ]
  },
  {
   "cell_type": "code",
   "execution_count": null,
   "id": "34afd161-b9f1-4f73-9b48-2bb5d8204bcf",
   "metadata": {
    "tags": []
   },
   "outputs": [],
   "source": [
    "# Make a list of integers from 0 to 9\n",
    "quickList = [i for i in range(10)]\n",
    "\n",
    "print(\"List from 0 to 9\", quickList, \"\\n\")\n",
    "\n",
    "# Make a list that prints all numbers divisible by 3\n",
    "\n",
    "anotherList = [i for i in range(100) if i%3==0]\n",
    "\n",
    "print(\"List of multiples of 3\", anotherList)"
   ]
  },
  {
   "cell_type": "markdown",
   "id": "e4bd6187-a769-4f72-9840-2c260c841f0c",
   "metadata": {},
   "source": [
    "As we can see from that second example, we can even include statements that allow us to use `if` statements and control which elements are included within our list comprehension.\n",
    "\n",
    "Comprehensions are frequently used to streamline code, and can make our work much easier to read if a for statement is only intended to transform data based on a fixed pattern for all elements in an existing list or other iterable.\n",
    "\n",
    "**NOTE:** an **iterable** is any object that can be used as the basis for a loop in Python. Lists, dictionaries, the `range` function, and many other objects are iterable! Try different types of variables out and see what happens! This will pay dividends as you write code later on.\n",
    "\n",
    "**Solve it**:\n",
    "\n",
    "In a cell with the comment `#si-fours`, write a list comprehension to find all numbers between 0 and 1000 with the number 4 in them, and store the resulting list as the variable `fours`."
   ]
  },
  {
   "cell_type": "code",
   "execution_count": null,
   "id": "42ba7d49-bd42-4073-8594-520ecf4347fc",
   "metadata": {},
   "outputs": [],
   "source": [
    "#si-fours\n",
    "fours=[i for i in range(1001) if '4' in str(i)]"
   ]
  },
  {
   "cell_type": "markdown",
   "id": "1a190227-59d9-471c-aab3-69e0fd9a9457",
   "metadata": {},
   "source": [
    "### While Loops\n",
    "\n",
    "Another kind of loop that is used in some contexts is a `while` loop. `while` loops differ significantly from `for` loops in their intended use: a `for` loop is designed to execute a determined number of iterations, whereas a `while` loop is designed to execute code repeatedly until a **stopping condition** is met. This means that we can allow a `while` loop to repeat indefinitely. \n",
    "\n",
    "A **stopping rule** is the logical statement that is checked before each iteration of a `while` loop. Whenever this condition is evaluated as `True`, then the loop is executed. When the condition is evaluated as `False`, the loop is terminated and the program advances to subsequent commands. This is where the term **infinite loop** comes from! If we forget to update our stopping condition within our `while` loop, then it will never stop, because we never tell it to stop. It is **really** important to remember this when we are writing `while` loops, or we will probably crash our program if not our computer.\n",
    "\n",
    "A fun example of a while loop would be writing a function to prompt the user to add numbers until the sum is above 42:"
   ]
  },
  {
   "cell_type": "code",
   "execution_count": null,
   "id": "e7b224dc-9d4c-4345-8361-3bf4840a769e",
   "metadata": {},
   "outputs": [],
   "source": [
    "total = 0\n",
    "while (total<=42):\n",
    "    total += float(input(\"Please enter a number:\"))\n",
    "    print(total)"
   ]
  },
  {
   "cell_type": "markdown",
   "id": "f29d4d98-7900-4369-9c17-b771611958f5",
   "metadata": {},
   "source": [
    "In reality, we would probably use `while` loops for significantly more difficult problems than our toy example. `while` loops are valuable in cases where we are seeking convergence such as dynamic programming, search models, and optimization problems in the context of statistical models.\n",
    "\n",
    "**Solve it!**\n",
    "In a cell with the comment `#si-while-loop`, create a variable `x` and assign it a starting value of 432. Next, write a while loop that subtracts 10 from `x` and stores the new value in the variable `x` while `x` is still above 100. "
   ]
  },
  {
   "cell_type": "code",
   "execution_count": null,
   "id": "cc849af4-8f06-403d-a3a0-2869a742d58f",
   "metadata": {},
   "outputs": [],
   "source": [
    "#si-while-loop"
   ]
  },
  {
   "cell_type": "markdown",
   "id": "76c7c772-0d8a-421f-b407-b1e8806833ff",
   "metadata": {},
   "source": [
    "# Functions\n",
    "\n",
    "Functions are an excellent addition to our ability to generate reusable code, and can save us significant effort when we want to recycle code from one problem to the next. In fact, there will come a time later in this course where we will do very little programming that does not involve functions on just about every line of our code. Functions are where computer programs really get their strength, especially when used together with logical statements and loops to create simple instructions that we can use to perform complex tasks.\n",
    "\n",
    "A function is created by using the keyword `def`, followed by the name of the new function we are creating. At the end of the name of the function, we place any the names of any values we want users to provide to our function within parentheses (`(` and `)`).\n",
    "\n",
    "Let's start by creating a function that can calculate the circumference of any circle. It will require our user to provide the radius of the circle, since the circumference of a circle is $2\\pi r$."
   ]
  },
  {
   "cell_type": "code",
   "execution_count": null,
   "id": "a654076a-8571-406f-9d16-fa3911992de3",
   "metadata": {},
   "outputs": [],
   "source": [
    "def circumference(r):\n",
    "    return 2*3.14159265*r"
   ]
  },
  {
   "cell_type": "markdown",
   "id": "02160e04-666b-4d53-b703-1b67f710e23f",
   "metadata": {},
   "source": [
    "Our function starts just like we explained above. We declare a function named `circumference`, and in parentheses we ask the user to provide `r`, which we know is the radius of the circle. This `r` value is treated as a variable within our function, and we can refer to it by using `r` in our operations within the function.\n",
    "\n",
    "The last line of any function should contain a `return` statement. This line tells our function what information to pass back to the program as a whole. It should typically be the final result of our function's operations.\n",
    "\n",
    "When we **declare** a function, like we did above, we tell Python what to do if we ask for a function to be executed. The function is NOT executed, though! Python waits until we **call** a function, like we will do below:"
   ]
  },
  {
   "cell_type": "code",
   "execution_count": null,
   "id": "e22bfd48-e02f-4284-8bf6-ee9e45932ba3",
   "metadata": {},
   "outputs": [],
   "source": [
    "circumference(2)"
   ]
  },
  {
   "cell_type": "markdown",
   "id": "2035ad2b-1243-4648-b56d-ba91e821e5e4",
   "metadata": {},
   "source": [
    "We just **called** our `circumference` function with an `r` value of `2`. The function evaluates the circumference of the circle with radius 2, and returns the calculated value upon completion.\n",
    "\n",
    "Let's write another fucntion, this time to calculate the *factorial* of a given number. A factorial is calculated as the product of an integer with all integers of smaller value. For example, $4!$ (4 factorial) is calculated as $4\\times3\\times2\\times1$."
   ]
  },
  {
   "cell_type": "code",
   "execution_count": null,
   "id": "5eb74139-b605-4a34-815e-dd2afe5cd7da",
   "metadata": {},
   "outputs": [],
   "source": [
    "def factorial(n):\n",
    "    fac = 1\n",
    "    while n > 0:\n",
    "        fac *= n\n",
    "        n -= 1\n",
    "    return fac"
   ]
  },
  {
   "cell_type": "markdown",
   "id": "d2433ff7-37d4-479b-8f64-19c8759a43b8",
   "metadata": {},
   "source": [
    "This function takes a number `n`, and multiplies it by 1. Then, it subtracts 1 from `n`, and repeats the process so long as n is still greater than 0. We can confirm that it works properly by calling the function:"
   ]
  },
  {
   "cell_type": "code",
   "execution_count": null,
   "id": "20912ec8-758f-41fe-8bd3-627e20868559",
   "metadata": {},
   "outputs": [],
   "source": [
    "factorial(5)"
   ]
  },
  {
   "cell_type": "markdown",
   "id": "c9461fa4-6ce7-4b63-b5c1-a2c65732188a",
   "metadata": {},
   "source": [
    "**Solve it!**\n",
    "\n",
    "A prime number is an integer greater than 1 that is only divisible by one and itself. In a cell commented with `#si-prime`, write a function `isPrime` that determines whether or not its parameter is prime, returning `True` if it is, and `False` otherwise."
   ]
  },
  {
   "cell_type": "code",
   "execution_count": null,
   "id": "c7b4c421-59d4-467d-8675-805b55715d7f",
   "metadata": {},
   "outputs": [],
   "source": [
    "#si-prime"
   ]
  },
  {
   "cell_type": "markdown",
   "id": "4def472e-8a4d-4c7c-a821-a4a1e713b681",
   "metadata": {},
   "source": [
    "**Solve it!**\n",
    "\n",
    "In a cell commented with `#si-taxi`, write a function called `taxiPrice` that calculates taxi fares. The function should accept as an argument `distance`, which is the distance traveled by taxi (measured in km), and should return a price (just the number is fine, no currency symbol is needed). The fee schedule is a €4.00 base fee, with a charge of €0.25 for each 140m traveled.\n",
    "\n",
    "from *The Python Workbook*"
   ]
  },
  {
   "cell_type": "code",
   "execution_count": null,
   "id": "cd8f1a7a-d9cf-4498-a677-e17d64d0eea0",
   "metadata": {},
   "outputs": [],
   "source": [
    "#si-taxi"
   ]
  },
  {
   "cell_type": "markdown",
   "id": "15187afa-b82c-4f3d-82b2-44047fb4d08a",
   "metadata": {},
   "source": [
    "### Recursive Functions\n",
    "\n",
    "Another really helpful feature of functions is the ability to call a function within itself. This process is called **recursion**, and makes otherwise intractable problems straightforward. First, let's look at an example of our `factorial` function that has been rewritten as a recursive function:"
   ]
  },
  {
   "cell_type": "code",
   "execution_count": null,
   "id": "2b642bfb-085c-4b8a-8835-e11a367b6906",
   "metadata": {},
   "outputs": [],
   "source": [
    "def factorial(n):\n",
    "    if n <= 1:\n",
    "        return 1\n",
    "    else:\n",
    "        return n*factorial(n-1)"
   ]
  },
  {
   "cell_type": "markdown",
   "id": "92a7353e-42c1-488d-8e06-64998cfc1c07",
   "metadata": {},
   "source": [
    "Recursive functions increase our ability to write flexible programs at the cost of sometimes taking longer to read and interpret. The function above contains some very simple logic that allows us to calculate the same values as our old `factorial` function:\n",
    "\n",
    "1) If `n` is less than or equal to 1, then we get back 1 as the resulting factorial. (Both 0 factorial and 1 factorial have a value of 1)\n",
    "\n",
    "2) For any other number `n`, we just want to multiply that number times the factorial of `n-1`. For example, the value of $2!$ is $2\\times 1!$, and the value of $3!$ is $3\\times2!$.\n",
    "\n",
    "Our program will continue to call `factorial(n-1)` until `n-1` is 1 or 0, at which point it will simply return the value `1`, and multiply each returned value back up the chain until we get our final result.\n",
    "\n",
    "Recursive programs aren't always necessary, but they come in very handy where we need to explore conditions with unclear stopping points (recursive problems in dynamic programming are common in Economics, for example).\n",
    "\n",
    "\n",
    "**Solve it!**\n",
    "\n",
    "In a cell commented with `#si-fibonacci`, write a **recursive** function to calculate the n-th Fibonacci number. You should name your function `fib` and it should take one argument (`n`). It should return the Fibonacci number corresponding to `n`."
   ]
  },
  {
   "cell_type": "code",
   "execution_count": null,
   "id": "9d3b9a2b-248e-4fda-b9a5-8adbc43cc2d0",
   "metadata": {},
   "outputs": [],
   "source": [
    "#si-fibonacci"
   ]
  },
  {
   "cell_type": "markdown",
   "id": "46c13992-729f-4191-8b28-27206c5704c3",
   "metadata": {
    "tags": []
   },
   "source": [
    "### Why we use functions\n",
    "\n",
    "When we use functions, we are able to write code in a single place that can be recycled anywhere in our code. We can even call functions from one script into another! This means that we only have to maintain a single block of code for each task we hope to implement in Python, and then we are able to use it over and over again.\n",
    "\n",
    "The alternative to this is to write the same code over and over again. If we make a mistake, we have to fix it over and over again. If we update our code to improve functionality, we have to update it over and over again.\n",
    "\n",
    "In short, functions save us effort in writing lines of code, updating lines of code, and fixing potential mistakes in our code.\n",
    "\n",
    "## Commenting our code\n",
    "\n",
    "It is important that, as we begin writing more and more complex code, we learn to leave explanations of our code. In the future, users of our code (future you, future me, and other users, as well!) will have an easier time understanding and updating the code if they can quickly grasp what we are attempting to do with that code.\n",
    "\n",
    "The first way that we can comment code is by using the `#` symbol. Putting a `#` anywhere in a line of Python indicates that ALL text from that point until the end of the line is not code, but is a comment. These comments only last until the end of the line, at which point Python treats the text as code again."
   ]
  },
  {
   "cell_type": "code",
   "execution_count": null,
   "id": "81d4327b-f7da-4d4a-9a0e-e8496f9ffeb4",
   "metadata": {
    "tags": []
   },
   "outputs": [],
   "source": [
    "# This is a recursive function that calculates the factorial of n\n",
    "def factorial(n):\n",
    "    if n <= 1:\n",
    "        return 1 # The return value for 0 and 1\n",
    "    else:\n",
    "        return n*factorial(n-1) # The return value for all numbers higher than 1"
   ]
  },
  {
   "cell_type": "markdown",
   "id": "4380aeec-49fe-462a-8d69-707948f7269b",
   "metadata": {
    "tags": []
   },
   "source": [
    "The comments provided above are helpful in understanding what is happening in our factorial code, but they are only visible while we are looking at the code itself. We would not be able to see those comments when we need help and are working in another script. Luckily, we also have ways to leave comments that are visible through the `help()` command at any time when working in Python.\n",
    "\n",
    "**docstrings** enable us to leave messages that can be accessed by users when they need to remember what a function does and how it works. **docstrings** are called by using triple quotes `\"\"\"` at the beginning and end of the **docstring**."
   ]
  },
  {
   "cell_type": "code",
   "execution_count": null,
   "id": "fc5bcb05-f510-47dc-841c-ea6dd983795b",
   "metadata": {
    "tags": []
   },
   "outputs": [],
   "source": [
    "# This is a recursive function that calculates the factorial of n\n",
    "def factorial(n):\n",
    "    \"\"\"\n",
    "    factorial(n) takes an integer (n) as input\n",
    "    and returns the mathematical factorial\n",
    "    of that number.\n",
    "    \"\"\"\n",
    "    if n <= 1:\n",
    "        return 1 # The return value for 0 and 1\n",
    "    else:\n",
    "        return n*factorial(n-1) # The return value for all numbers higher than 1"
   ]
  },
  {
   "cell_type": "markdown",
   "id": "83e8582f-c6d2-4903-85e2-21a46ec84061",
   "metadata": {
    "tags": []
   },
   "source": [
    "Now, we can use the line `help(factorial)` to get some guidance on our `factorial` function:"
   ]
  },
  {
   "cell_type": "code",
   "execution_count": null,
   "id": "592e784a-e47c-45ef-9bcf-59fd5437e20d",
   "metadata": {
    "tags": []
   },
   "outputs": [],
   "source": [
    "help(factorial)"
   ]
  },
  {
   "cell_type": "markdown",
   "id": "05d3f30e-1a52-4980-9034-efed49268e2c",
   "metadata": {
    "tags": []
   },
   "source": [
    "### When should we leave comments in our code?\n",
    "\n",
    "Always! We should comment ALL code that we write. This allows us to pick up where we left off when working on long-term projects, but also makes it easier to collaborate on projects with other programmers. If you ever want your code to be used by others, commenting will be a valuable tool for those users.\n",
    "\n",
    "Comment your code when:\n",
    "- You plan on using your code\n",
    "- You might look at your code again at a different time\n",
    "- Someone else might use your code\n",
    "- Someone else might update your code\n",
    "- Someone else might need to read your code\n",
    "\n",
    "In other words, always comment your code."
   ]
  },
  {
   "cell_type": "code",
   "execution_count": null,
   "id": "3fb1aba0-24c9-4e52-941d-dfd9345df62f",
   "metadata": {},
   "outputs": [],
   "source": []
  }
 ],
 "metadata": {
  "kernelspec": {
   "display_name": "Python 3 (ipykernel)",
   "language": "python",
   "name": "python3"
  },
  "language_info": {
   "codemirror_mode": {
    "name": "ipython",
    "version": 3
   },
   "file_extension": ".py",
   "mimetype": "text/x-python",
   "name": "python",
   "nbconvert_exporter": "python",
   "pygments_lexer": "ipython3",
   "version": "3.9.13"
  }
 },
 "nbformat": 4,
 "nbformat_minor": 5
}
